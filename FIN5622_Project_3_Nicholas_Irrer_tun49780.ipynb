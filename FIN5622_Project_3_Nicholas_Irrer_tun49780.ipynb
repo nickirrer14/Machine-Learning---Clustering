{
 "cells": [
  {
   "cell_type": "markdown",
   "metadata": {},
   "source": [
    "<h2>FIN5622 Project #3\n",
    "    <p class=\"text-primary\">S&P100 Returns Clustering</p>\n",
    "</h2>\n",
    "\n",
    "<div class = \"alert alert-block alert-danger\">\n",
    "    <b>Due Date</b>: April 9nd, 2021, 11:59PM EST\n",
    "</div>  "
   ]
  },
  {
   "cell_type": "markdown",
   "metadata": {},
   "source": [
    "<div class = \"panel panel-success\">\n",
    "    <div class = \"panel-heading\"> \n",
    "    <span style=\"color:black\"><b>Project Introduction</b>\n",
    "    </div>\n",
    "    <div class = \"panel-body\"> \n",
    "    In this project, we will use k-means clustering to explore annual returns from the 100 component stocks from the S&P100 over the period from 2016 to 2019. Specifically, we will use the resulting clusters to distinguish between different stock return profiles among the 99 stocks within the index. \n",
    "    </div>\n",
    "</div>\n",
    "<div class = \"panel panel-info\">\n",
    "    <div class = \"panel-heading\"> \n",
    "    <span style=\"color:black\"><b>Instructions</b>\n",
    "    </div>\n",
    "    <div class = \"panel-body\"> \n",
    "    Please code you solutions directly in this Notebook under each task in the cells provided below. Tasks are intended to be done in order with results from one task informing work in later tasks. Include all code used to produce your results, and support your answers with textual explanations if neccessary. You may feel free to add additional Code and/or Markdown cells as needed. Code must be written using <b>Python 3</b>.\n",
    "    <br><br>Please order the cells in your Notebook in the order in which they are intended to run! It is expected that your Notebook is able to run in sequence from start to finish without any errors (before submitting check by: <code>Kernel > Restart & Run All</code>).\n",
    "    <br><br>Once ready, please submit your assignment as an <b>.ipynb file</b> (<code>File > Download as > Notebook</code>). You must name your files in the following format: <b><code>FIN5622_Project_1_Richard_Lee_tuc12345.ipynb</code></b>.\n",
    "    </div>\n",
    "</div>\n",
    "\n",
    "---\n",
    "<div class = \"alert alert-block alert-warning\">\n",
    "    <b>Note</b>: Import all libraries that you plan on using in the code block below.\n",
    "</div>"
   ]
  },
  {
   "cell_type": "code",
   "execution_count": 1,
   "metadata": {},
   "outputs": [],
   "source": [
    "import pandas as pd\n",
    "import numpy as np \n",
    "import matplotlib.pyplot as plt\n",
    "from sklearn.cluster import KMeans, AgglomerativeClustering"
   ]
  },
  {
   "cell_type": "markdown",
   "metadata": {},
   "source": [
    "<div class = \"panel panel-primary\">\n",
    "    <div class = \"panel-heading\"> \n",
    "    <span style=\"color:white\"><b>Task 1</b>\n",
    "    </div>\n",
    "    <div class = \"panel-body\"> \n",
    "    Read in the \"SP100_annual_returns.csv\" dataset using the pandas <code>read_csv</code> function and store it in a dataframe called <code>stock_returns</code>. The dataset contains annual returns for the 99 component stocks from the S&P 100 over the years 2016, 2017, 2018, and 2019. \n",
    "    <br><br>\n",
    "    Set the column \"Ticker\" as the dataframe's index. Check that the shape of <code>stock_returns</code> is <code>(99, 4)</code>, where each row represent a different stock and each column represents a different year of returns.\n",
    "    <p style=\"text-align:right;\">[5pts]</p>\n",
    "    </div>\n",
    "</div>"
   ]
  },
  {
   "cell_type": "code",
   "execution_count": 2,
   "metadata": {},
   "outputs": [
    {
     "data": {
      "text/html": [
       "<div>\n",
       "<style scoped>\n",
       "    .dataframe tbody tr th:only-of-type {\n",
       "        vertical-align: middle;\n",
       "    }\n",
       "\n",
       "    .dataframe tbody tr th {\n",
       "        vertical-align: top;\n",
       "    }\n",
       "\n",
       "    .dataframe thead th {\n",
       "        text-align: right;\n",
       "    }\n",
       "</style>\n",
       "<table border=\"1\" class=\"dataframe\">\n",
       "  <thead>\n",
       "    <tr style=\"text-align: right;\">\n",
       "      <th></th>\n",
       "      <th>Ticker</th>\n",
       "      <th>2016</th>\n",
       "      <th>2017</th>\n",
       "      <th>2018</th>\n",
       "      <th>2019</th>\n",
       "    </tr>\n",
       "  </thead>\n",
       "  <tbody>\n",
       "    <tr>\n",
       "      <th>0</th>\n",
       "      <td>AAPL</td>\n",
       "      <td>11.760915</td>\n",
       "      <td>39.517452</td>\n",
       "      <td>-5.540897</td>\n",
       "      <td>63.635358</td>\n",
       "    </tr>\n",
       "    <tr>\n",
       "      <th>1</th>\n",
       "      <td>ABBV</td>\n",
       "      <td>9.341715</td>\n",
       "      <td>47.047173</td>\n",
       "      <td>-0.961085</td>\n",
       "      <td>2.921372</td>\n",
       "    </tr>\n",
       "    <tr>\n",
       "      <th>2</th>\n",
       "      <td>ABT</td>\n",
       "      <td>-13.148336</td>\n",
       "      <td>41.889572</td>\n",
       "      <td>25.512152</td>\n",
       "      <td>19.950791</td>\n",
       "    </tr>\n",
       "    <tr>\n",
       "      <th>3</th>\n",
       "      <td>ACN</td>\n",
       "      <td>13.410868</td>\n",
       "      <td>28.770155</td>\n",
       "      <td>-6.431124</td>\n",
       "      <td>41.352327</td>\n",
       "    </tr>\n",
       "    <tr>\n",
       "      <th>4</th>\n",
       "      <td>ADBE</td>\n",
       "      <td>9.158710</td>\n",
       "      <td>53.191309</td>\n",
       "      <td>25.543991</td>\n",
       "      <td>37.692032</td>\n",
       "    </tr>\n",
       "    <tr>\n",
       "      <th>...</th>\n",
       "      <td>...</td>\n",
       "      <td>...</td>\n",
       "      <td>...</td>\n",
       "      <td>...</td>\n",
       "      <td>...</td>\n",
       "    </tr>\n",
       "    <tr>\n",
       "      <th>94</th>\n",
       "      <td>VZ</td>\n",
       "      <td>18.812401</td>\n",
       "      <td>3.895387</td>\n",
       "      <td>10.666996</td>\n",
       "      <td>12.956664</td>\n",
       "    </tr>\n",
       "    <tr>\n",
       "      <th>95</th>\n",
       "      <td>WBA</td>\n",
       "      <td>-1.017906</td>\n",
       "      <td>-11.105816</td>\n",
       "      <td>-3.718737</td>\n",
       "      <td>-11.644399</td>\n",
       "    </tr>\n",
       "    <tr>\n",
       "      <th>96</th>\n",
       "      <td>WFC</td>\n",
       "      <td>4.533626</td>\n",
       "      <td>12.407895</td>\n",
       "      <td>-24.627405</td>\n",
       "      <td>19.425976</td>\n",
       "    </tr>\n",
       "    <tr>\n",
       "      <th>97</th>\n",
       "      <td>WMT</td>\n",
       "      <td>14.868893</td>\n",
       "      <td>38.749651</td>\n",
       "      <td>-3.492238</td>\n",
       "      <td>26.361709</td>\n",
       "    </tr>\n",
       "    <tr>\n",
       "      <th>98</th>\n",
       "      <td>XOM</td>\n",
       "      <td>18.133859</td>\n",
       "      <td>-3.881267</td>\n",
       "      <td>-16.361721</td>\n",
       "      <td>6.983260</td>\n",
       "    </tr>\n",
       "  </tbody>\n",
       "</table>\n",
       "<p>99 rows × 5 columns</p>\n",
       "</div>"
      ],
      "text/plain": [
       "   Ticker       2016       2017       2018       2019\n",
       "0    AAPL  11.760915  39.517452  -5.540897  63.635358\n",
       "1    ABBV   9.341715  47.047173  -0.961085   2.921372\n",
       "2     ABT -13.148336  41.889572  25.512152  19.950791\n",
       "3     ACN  13.410868  28.770155  -6.431124  41.352327\n",
       "4    ADBE   9.158710  53.191309  25.543991  37.692032\n",
       "..    ...        ...        ...        ...        ...\n",
       "94     VZ  18.812401   3.895387  10.666996  12.956664\n",
       "95    WBA  -1.017906 -11.105816  -3.718737 -11.644399\n",
       "96    WFC   4.533626  12.407895 -24.627405  19.425976\n",
       "97    WMT  14.868893  38.749651  -3.492238  26.361709\n",
       "98    XOM  18.133859  -3.881267 -16.361721   6.983260\n",
       "\n",
       "[99 rows x 5 columns]"
      ]
     },
     "execution_count": 2,
     "metadata": {},
     "output_type": "execute_result"
    }
   ],
   "source": [
    "path = '../Data'\n",
    "stock_returns = pd.read_csv(f'{path}/SP100_annual_returns.csv')\n",
    "stock_returns"
   ]
  },
  {
   "cell_type": "code",
   "execution_count": 3,
   "metadata": {
    "scrolled": true
   },
   "outputs": [
    {
     "data": {
      "text/html": [
       "<div>\n",
       "<style scoped>\n",
       "    .dataframe tbody tr th:only-of-type {\n",
       "        vertical-align: middle;\n",
       "    }\n",
       "\n",
       "    .dataframe tbody tr th {\n",
       "        vertical-align: top;\n",
       "    }\n",
       "\n",
       "    .dataframe thead th {\n",
       "        text-align: right;\n",
       "    }\n",
       "</style>\n",
       "<table border=\"1\" class=\"dataframe\">\n",
       "  <thead>\n",
       "    <tr style=\"text-align: right;\">\n",
       "      <th></th>\n",
       "      <th>2016</th>\n",
       "      <th>2017</th>\n",
       "      <th>2018</th>\n",
       "      <th>2019</th>\n",
       "    </tr>\n",
       "    <tr>\n",
       "      <th>Ticker</th>\n",
       "      <th></th>\n",
       "      <th></th>\n",
       "      <th></th>\n",
       "      <th></th>\n",
       "    </tr>\n",
       "  </thead>\n",
       "  <tbody>\n",
       "    <tr>\n",
       "      <th>AAPL</th>\n",
       "      <td>11.760915</td>\n",
       "      <td>39.517452</td>\n",
       "      <td>-5.540897</td>\n",
       "      <td>63.635358</td>\n",
       "    </tr>\n",
       "    <tr>\n",
       "      <th>ABBV</th>\n",
       "      <td>9.341715</td>\n",
       "      <td>47.047173</td>\n",
       "      <td>-0.961085</td>\n",
       "      <td>2.921372</td>\n",
       "    </tr>\n",
       "    <tr>\n",
       "      <th>ABT</th>\n",
       "      <td>-13.148336</td>\n",
       "      <td>41.889572</td>\n",
       "      <td>25.512152</td>\n",
       "      <td>19.950791</td>\n",
       "    </tr>\n",
       "    <tr>\n",
       "      <th>ACN</th>\n",
       "      <td>13.410868</td>\n",
       "      <td>28.770155</td>\n",
       "      <td>-6.431124</td>\n",
       "      <td>41.352327</td>\n",
       "    </tr>\n",
       "    <tr>\n",
       "      <th>ADBE</th>\n",
       "      <td>9.158710</td>\n",
       "      <td>53.191309</td>\n",
       "      <td>25.543991</td>\n",
       "      <td>37.692032</td>\n",
       "    </tr>\n",
       "    <tr>\n",
       "      <th>...</th>\n",
       "      <td>...</td>\n",
       "      <td>...</td>\n",
       "      <td>...</td>\n",
       "      <td>...</td>\n",
       "    </tr>\n",
       "    <tr>\n",
       "      <th>VZ</th>\n",
       "      <td>18.812401</td>\n",
       "      <td>3.895387</td>\n",
       "      <td>10.666996</td>\n",
       "      <td>12.956664</td>\n",
       "    </tr>\n",
       "    <tr>\n",
       "      <th>WBA</th>\n",
       "      <td>-1.017906</td>\n",
       "      <td>-11.105816</td>\n",
       "      <td>-3.718737</td>\n",
       "      <td>-11.644399</td>\n",
       "    </tr>\n",
       "    <tr>\n",
       "      <th>WFC</th>\n",
       "      <td>4.533626</td>\n",
       "      <td>12.407895</td>\n",
       "      <td>-24.627405</td>\n",
       "      <td>19.425976</td>\n",
       "    </tr>\n",
       "    <tr>\n",
       "      <th>WMT</th>\n",
       "      <td>14.868893</td>\n",
       "      <td>38.749651</td>\n",
       "      <td>-3.492238</td>\n",
       "      <td>26.361709</td>\n",
       "    </tr>\n",
       "    <tr>\n",
       "      <th>XOM</th>\n",
       "      <td>18.133859</td>\n",
       "      <td>-3.881267</td>\n",
       "      <td>-16.361721</td>\n",
       "      <td>6.983260</td>\n",
       "    </tr>\n",
       "  </tbody>\n",
       "</table>\n",
       "<p>99 rows × 4 columns</p>\n",
       "</div>"
      ],
      "text/plain": [
       "             2016       2017       2018       2019\n",
       "Ticker                                            \n",
       "AAPL    11.760915  39.517452  -5.540897  63.635358\n",
       "ABBV     9.341715  47.047173  -0.961085   2.921372\n",
       "ABT    -13.148336  41.889572  25.512152  19.950791\n",
       "ACN     13.410868  28.770155  -6.431124  41.352327\n",
       "ADBE     9.158710  53.191309  25.543991  37.692032\n",
       "...           ...        ...        ...        ...\n",
       "VZ      18.812401   3.895387  10.666996  12.956664\n",
       "WBA     -1.017906 -11.105816  -3.718737 -11.644399\n",
       "WFC      4.533626  12.407895 -24.627405  19.425976\n",
       "WMT     14.868893  38.749651  -3.492238  26.361709\n",
       "XOM     18.133859  -3.881267 -16.361721   6.983260\n",
       "\n",
       "[99 rows x 4 columns]"
      ]
     },
     "execution_count": 3,
     "metadata": {},
     "output_type": "execute_result"
    }
   ],
   "source": [
    "stock_returns = stock_returns.set_index('Ticker')\n",
    "stock_returns"
   ]
  },
  {
   "cell_type": "code",
   "execution_count": 4,
   "metadata": {},
   "outputs": [
    {
     "data": {
      "text/plain": [
       "(99, 4)"
      ]
     },
     "execution_count": 4,
     "metadata": {},
     "output_type": "execute_result"
    }
   ],
   "source": [
    "stock_returns.shape"
   ]
  },
  {
   "cell_type": "markdown",
   "metadata": {},
   "source": [
    "<div class = \"panel panel-primary\">\n",
    "    <div class = \"panel-heading\"> \n",
    "    <span style=\"color:white\"><b>Task 2</b>\n",
    "    </div>\n",
    "    <div class = \"panel-body\"> \n",
    "    Next, we will apply k-means clustering to <code>stock_returns</code>. It is important for us to choose an appropriate number of clusters, which we will select by examining the within-cluster sum-of-squares (WCSS).\n",
    "    <br><br>\n",
    "    Run the k-means algorithm with the number of clusters ranging from 1 to 20 using a loop and calling <code>KMeans()</code> from the <code>sklearn.cluster</code> module, and using the <code>fit()</code> method. Additionally, set the following optional paramters for <code>KMeans()</code> to the values listed below:\n",
    "    <ul>\n",
    "        <li><code>random_state = 5622</code></li>\n",
    "        <li><code>init = 'k-means++'</code></li>. \n",
    "    </ul>\n",
    "    At each iteration, use the <code>fit()</code> method to create the k-means model, then save the model's WCSS in an array. Recall that the WCSS is stored in the <code>inertia_</code> attribute of the fitted k-means model. \n",
    "    <br><br>\n",
    "    Plot the series of WCSS in a line plot, and provide axis labels and a title. You should observe a monotonically decrease line representing the number of clusters ranging from 1 to 20 on the x-axis and the WCSS on the y-axis.\n",
    "    <p style=\"text-align:right;\">[20pts]</p>\n",
    "    </div>\n",
    "</div>"
   ]
  },
  {
   "cell_type": "code",
   "execution_count": 5,
   "metadata": {},
   "outputs": [
    {
     "data": {
      "text/plain": [
       "[KMeans(n_clusters=1, random_state=5622),\n",
       " KMeans(n_clusters=2, random_state=5622),\n",
       " KMeans(n_clusters=3, random_state=5622),\n",
       " KMeans(n_clusters=4, random_state=5622),\n",
       " KMeans(n_clusters=5, random_state=5622),\n",
       " KMeans(n_clusters=6, random_state=5622),\n",
       " KMeans(n_clusters=7, random_state=5622),\n",
       " KMeans(random_state=5622),\n",
       " KMeans(n_clusters=9, random_state=5622),\n",
       " KMeans(n_clusters=10, random_state=5622),\n",
       " KMeans(n_clusters=11, random_state=5622),\n",
       " KMeans(n_clusters=12, random_state=5622),\n",
       " KMeans(n_clusters=13, random_state=5622),\n",
       " KMeans(n_clusters=14, random_state=5622),\n",
       " KMeans(n_clusters=15, random_state=5622),\n",
       " KMeans(n_clusters=16, random_state=5622),\n",
       " KMeans(n_clusters=17, random_state=5622),\n",
       " KMeans(n_clusters=18, random_state=5622),\n",
       " KMeans(n_clusters=19, random_state=5622),\n",
       " KMeans(n_clusters=20, random_state=5622)]"
      ]
     },
     "execution_count": 5,
     "metadata": {},
     "output_type": "execute_result"
    }
   ],
   "source": [
    "kmeans_models = []\n",
    "\n",
    "for k in range (1,21):\n",
    "    kmeans_model_list = KMeans(n_clusters = k, init = 'k-means++', random_state = 5622)\n",
    "    kmeans_fit = kmeans_model_list.fit(stock_returns)\n",
    "    kmeans_models.append(kmeans_fit)\n",
    "kmeans_models"
   ]
  },
  {
   "cell_type": "code",
   "execution_count": 6,
   "metadata": {},
   "outputs": [
    {
     "data": {
      "text/plain": [
       "[138681.77060864956,\n",
       " 104411.2402287066,\n",
       " 86034.29540067229,\n",
       " 76363.5453712133,\n",
       " 65469.83900365095,\n",
       " 57625.031346557145,\n",
       " 51278.11390442438,\n",
       " 47890.53938422264,\n",
       " 43844.2235422449,\n",
       " 40900.95222034627,\n",
       " 37668.20771102342,\n",
       " 34560.534544745205,\n",
       " 32473.635733012117,\n",
       " 30395.367613139217,\n",
       " 28439.78443927077,\n",
       " 27455.850155808355,\n",
       " 25093.312117775782,\n",
       " 23285.85206631907,\n",
       " 21761.297879357848,\n",
       " 20892.7955214619]"
      ]
     },
     "execution_count": 6,
     "metadata": {},
     "output_type": "execute_result"
    }
   ],
   "source": [
    "distances = []\n",
    "\n",
    "for k in range (0,20):\n",
    "    intertias = kmeans_models[k].inertia_\n",
    "    distances.append(intertias)\n",
    "distances"
   ]
  },
  {
   "cell_type": "code",
   "execution_count": 7,
   "metadata": {},
   "outputs": [
    {
     "data": {
      "text/plain": [
       "Text(0, 0.5, 'n_clusters')"
      ]
     },
     "execution_count": 7,
     "metadata": {},
     "output_type": "execute_result"
    },
    {
     "data": {
      "image/png": "[encoded data removed]",
      "text/plain": [
       "<Figure size 432x288 with 1 Axes>"
      ]
     },
     "metadata": {
      "needs_background": "light"
     },
     "output_type": "display_data"
    }
   ],
   "source": [
    "plt.plot(distances)\n",
    "plt.title('WCSS Series for Clusters ranging from 1 to 20')\n",
    "plt.xlabel('WCSS')\n",
    "plt.ylabel('n_clusters')"
   ]
  },
  {
   "cell_type": "markdown",
   "metadata": {},
   "source": [
    "<div class = \"panel panel-primary\">\n",
    "    <div class = \"panel-heading\"> \n",
    "    <span style=\"color:white\"><b>Task 3</b>\n",
    "    </div>\n",
    "    <div class = \"panel-body\"> \n",
    "    While there is no \"correct\" choice for the number of clusters, there are several different methods or heuristics we can use to help us select an appropriate number of clusters. For our final model, select the number of clusters that results in a 50% reduction to the WCSS, which should be 4 clusters. \n",
    "    <br>\n",
    "    <ul>\n",
    "        <li>Refit the k-means algorithm on the <code>stock_returns</code> dataframe using 4 clusters, and remember to set <code>random_state = 5622</code> and <code>init = 'k-means++'</code>. Store the fitted model in a variabled called <code>cluster_model</code>.</li>  \n",
    "        <li>Then, using the <code>fit_predict()</code> method, assign each stock from the the <code>stock_returns</code> dataframe to a cluster and store the results in another variable called <code>clusters</code>. Check that <code>clusters</code> should be a 1-d array of length 99.</li>\n",
    "    </ul>\n",
    "    <p style=\"text-align:right;\">[20pts]</p>\n",
    "    </div>\n",
    "</div>"
   ]
  },
  {
   "cell_type": "code",
   "execution_count": 8,
   "metadata": {},
   "outputs": [
    {
     "data": {
      "text/plain": [
       "array([3, 1, 1, 3, 1, 2, 3, 1, 1, 1, 1, 1, 3, 0, 0, 0, 3, 0, 0, 3, 3, 3,\n",
       "       0, 3, 3, 1, 1, 1, 1, 0, 0, 0, 3, 0, 0, 3, 1, 0, 3, 0, 0, 2, 0, 0,\n",
       "       1, 3, 1, 3, 0, 1, 0, 3, 2, 3, 1, 1, 3, 1, 1, 1, 0, 1, 0, 0, 0, 1,\n",
       "       3, 1, 1, 1, 1, 3, 0, 0, 0, 1, 1, 3, 1, 3, 3, 1, 2, 3, 0, 3, 3, 1,\n",
       "       3, 1, 3, 0, 3, 1, 0, 0, 0, 1, 0])"
      ]
     },
     "execution_count": 8,
     "metadata": {},
     "output_type": "execute_result"
    }
   ],
   "source": [
    "cluster_model = KMeans(n_clusters = 4, random_state = 5622, init = 'k-means++').fit(stock_returns)\n",
    "\n",
    "clusters = KMeans(n_clusters = 4, random_state = 5622, init = 'k-means++').fit_predict(stock_returns)\n",
    "clusters"
   ]
  },
  {
   "cell_type": "code",
   "execution_count": 9,
   "metadata": {},
   "outputs": [
    {
     "data": {
      "text/plain": [
       "(99,)"
      ]
     },
     "execution_count": 9,
     "metadata": {},
     "output_type": "execute_result"
    }
   ],
   "source": [
    "clusters.shape"
   ]
  },
  {
   "cell_type": "markdown",
   "metadata": {},
   "source": [
    "<div class = \"panel panel-primary\">\n",
    "    <div class = \"panel-heading\"> \n",
    "    <span style=\"color:white\"><b>Task 5</b>\n",
    "    </div>\n",
    "    <div class = \"panel-body\"> \n",
    "    Print out the list of stocks associated with each of the 4 clusters from the k-means clustering results stored in <code>clusters</code>. For each cluster, calculate its average return for each year from 2016 - 2019.\n",
    "    <br><br>\n",
    "    Plot the average returns for all 4 clusters in a single line plot. Also include on the plot the overall average annual returns for all 99 stocks. Your final plot should have 5 lines, representing the average returns under each cluster as well as the overall average returns on the y-axis, and the years 2016 - 2019 on the x-axis. Provide axis labels, a legend, and a title for the plot.\n",
    "    <p style=\"text-align:right;\">[25pts]</p>\n",
    "    </div>\n",
    "</div>"
   ]
  },
  {
   "cell_type": "code",
   "execution_count": 10,
   "metadata": {
    "scrolled": false
   },
   "outputs": [],
   "source": [
    "stock_returns['clusters'] = cluster_model.labels_\n"
   ]
  },
  {
   "cell_type": "code",
   "execution_count": 11,
   "metadata": {},
   "outputs": [
    {
     "name": "stdout",
     "output_type": "stream",
     "text": [
      "['BIIB', 'BK', 'BKNG', 'BMY', 'BRK.B', 'CL', 'CVS', 'CVX', 'DD', 'DIS', 'DUK', 'F', 'FDX', 'GD', 'GILD', 'GM', 'IBM', 'JNJ', 'MDLZ', 'MET', 'MMM', 'MO', 'ORCL', 'OXY', 'PEP', 'SPG', 'UPS', 'VZ', 'WBA', 'WFC', 'XOM']\n",
      "['ABBV', 'ABT', 'ADBE', 'AMGN', 'AMT', 'AMZN', 'AXP', 'BA', 'COP', 'COST', 'CRM', 'CSCO', 'EXC', 'GOOG', 'HD', 'INTC', 'KO', 'LLY', 'LOW', 'MA', 'MCD', 'MDT', 'MRK', 'MSFT', 'NEE', 'NFLX', 'NKE', 'PFE', 'PG', 'PYPL', 'SBUX', 'TMO', 'UNH', 'V', 'WMT']\n",
      "['AIG', 'GE', 'KHC', 'SLB']\n",
      "['AAPL', 'ACN', 'ALL', 'BAC', 'BLK', 'C', 'CAT', 'CHTR', 'CMCSA', 'COF', 'DHR', 'EMR', 'FB', 'GS', 'HON', 'JPM', 'KMI', 'LMT', 'MS', 'NVDA', 'PM', 'QCOM', 'RTX', 'SO', 'T', 'TGT', 'TXN', 'UNP', 'USB']\n"
     ]
    }
   ],
   "source": [
    "for k in range (0,4):\n",
    "    print(list(stock_returns.loc[stock_returns['clusters'] == k].index))"
   ]
  },
  {
   "cell_type": "code",
   "execution_count": 12,
   "metadata": {},
   "outputs": [
    {
     "data": {
      "text/plain": [
       "2016     8.073538\n",
       "2017    10.780062\n",
       "2018   -12.592408\n",
       "2019    10.882895\n",
       "dtype: float64"
      ]
     },
     "execution_count": 12,
     "metadata": {},
     "output_type": "execute_result"
    }
   ],
   "source": [
    "cluster_0_avg = stock_returns.loc[stock_returns['clusters'] == 0, stock_returns.columns[:-1]].mean()\n",
    "cluster_0_avg"
   ]
  },
  {
   "cell_type": "code",
   "execution_count": 13,
   "metadata": {},
   "outputs": [
    {
     "data": {
      "text/plain": [
       "2016     5.199220\n",
       "2017    30.176662\n",
       "2018    13.932853\n",
       "2019    23.824529\n",
       "dtype: float64"
      ]
     },
     "execution_count": 13,
     "metadata": {},
     "output_type": "execute_result"
    }
   ],
   "source": [
    "cluster_1_avg = stock_returns.loc[stock_returns['clusters'] == 1, stock_returns.columns[:-1]].mean()\n",
    "cluster_1_avg"
   ]
  },
  {
   "cell_type": "code",
   "execution_count": 14,
   "metadata": {},
   "outputs": [
    {
     "data": {
      "text/plain": [
       "2016    13.575740\n",
       "2017   -22.323119\n",
       "2018   -58.344341\n",
       "2019    16.145950\n",
       "dtype: float64"
      ]
     },
     "execution_count": 14,
     "metadata": {},
     "output_type": "execute_result"
    }
   ],
   "source": [
    "cluster_2_avg = stock_returns.loc[stock_returns['clusters'] == 2, stock_returns.columns[:-1]].mean()\n",
    "cluster_2_avg"
   ]
  },
  {
   "cell_type": "code",
   "execution_count": 15,
   "metadata": {},
   "outputs": [
    {
     "data": {
      "text/plain": [
       "2016    26.175760\n",
       "2017    22.254892\n",
       "2018   -16.103058\n",
       "2019    38.512750\n",
       "dtype: float64"
      ]
     },
     "execution_count": 15,
     "metadata": {},
     "output_type": "execute_result"
    }
   ],
   "source": [
    "cluster_3_avg = stock_returns.loc[stock_returns['clusters'] == 3, stock_returns.columns[:-1]].mean()\n",
    "cluster_3_avg"
   ]
  },
  {
   "cell_type": "code",
   "execution_count": 16,
   "metadata": {},
   "outputs": [
    {
     "data": {
      "text/plain": [
       "[(2016, 13.25606441481181),\n",
       " (2017, 10.222124155692402),\n",
       " (2018, -18.276738645603395),\n",
       " (2019, 22.34153086031646)]"
      ]
     },
     "execution_count": 16,
     "metadata": {},
     "output_type": "execute_result"
    }
   ],
   "source": [
    "years = [2016, 2017, 2018, 2019]\n",
    "averages_per_year = []\n",
    "\n",
    "for k in range (0,4):\n",
    "    avg = years[k], (cluster_0_avg[k] + cluster_1_avg[k] + cluster_2_avg[k] + cluster_3_avg[k])/4\n",
    "    averages_per_year.append(avg)\n",
    "averages_per_year\n",
    "\n",
    "#unsure how to plot this data as when I try: plt.plot(averages_per_year) it does not show properly"
   ]
  },
  {
   "cell_type": "code",
   "execution_count": 17,
   "metadata": {
    "scrolled": false
   },
   "outputs": [
    {
     "data": {
      "image/png": "[encoded data removed]",
      "text/plain": [
       "<Figure size 432x288 with 1 Axes>"
      ]
     },
     "metadata": {
      "needs_background": "light"
     },
     "output_type": "display_data"
    }
   ],
   "source": [
    "for k in range (0,4):\n",
    "    plt.plot(stock_returns.loc[stock_returns['clusters'] == k, stock_returns.columns[:-1]].mean())\n",
    "    \n",
    "plt.legend([f'cluster {i}' for i in range (0,4)])\n",
    "plt.title('Average Annual Returns')\n",
    "plt.xlabel('Year')\n",
    "plt.ylabel('Returns')\n",
    "plt.show()"
   ]
  },
  {
   "cell_type": "code",
   "execution_count": 18,
   "metadata": {},
   "outputs": [
    {
     "data": {
      "text/plain": [
       "(2017, 10.222124155692402)"
      ]
     },
     "execution_count": 18,
     "metadata": {},
     "output_type": "execute_result"
    }
   ],
   "source": [
    "averages_per_year[1]"
   ]
  },
  {
   "cell_type": "markdown",
   "metadata": {},
   "source": [
    "<div class = \"panel panel-primary\">\n",
    "    <div class = \"panel-heading\"> \n",
    "    <span style=\"color:white\"><b>Task 6</b>\n",
    "    </div>\n",
    "    <div class = \"panel-body\"> \n",
    "    Examine the line plot from the previous task. Describe how the return profile for each cluster differ compared to the overall average return series. Do you believe the k-means clustering algorithm did a good job partitioning the 99 stocks in our dataset into the 4 clusters?\n",
    "    <p style=\"text-align:right;\">[15pts]</p>\n",
    "    </div>\n",
    "</div>"
   ]
  },
  {
   "cell_type": "markdown",
   "metadata": {},
   "source": [
    "I believe that k-means did a reasonable job at clustering the data into 4 clusters. However, I do not believe that 4 clusters was the proper amount. If 4 clusters was the proper number of clusters I believe we would have seen more distinction in clusters 0, 1 , and 3. While I am unable to graph the averages each year alongside the data. The average is pulled down by cluster 2. If I had to guess, 2-3 more clusters to add more distinction would be the proper number of clusters. "
   ]
  },
  {
   "cell_type": "markdown",
   "metadata": {},
   "source": [
    "<div class = \"panel panel-primary\">\n",
    "    <div class = \"panel-heading\"> \n",
    "    <span style=\"color:white\"><b>Task 7</b>\n",
    "    </div>\n",
    "    <div class = \"panel-body\"> \n",
    "    Below are the annual returns series for Twitter (TWTR) and General Mills (GIS) over the same time period (2016 - 2019). Both of which are not components of the S&P 100. \n",
    "    <br>\n",
    "    <code>\n",
    "    new_stocks = np.array([\n",
    "        [-35.03976321, 38.73053638, 17.98194704, 10.90072715], #TWTR \n",
    "        [9.811733774,-0.653042047,-37.93613677,35.85701138,] #GIS\n",
    "    ])\n",
    "    </code>\n",
    "    <br>Assign TWTR and GIS to one of the 4 clusters using the k-means clustering model built in Task 3, and using the <code>predict()</code> method. There should be one cluster label for each stock, TWTR and GIS. \n",
    "    <br><br>\n",
    "    Comment on whether the clusters assigned makes sense for each stock, both judging by the other stocks within that cluster and also by the return profile for TWTR and GIS.\n",
    "    <p style=\"text-align:right;\">[15pts]</p>\n",
    "    </div>\n",
    "</div>"
   ]
  },
  {
   "cell_type": "code",
   "execution_count": 42,
   "metadata": {},
   "outputs": [
    {
     "data": {
      "text/plain": [
       "[<matplotlib.lines.Line2D at 0x1b135a34370>]"
      ]
     },
     "execution_count": 42,
     "metadata": {},
     "output_type": "execute_result"
    },
    {
     "data": {
      "image/png": "[encoded data removed]",
      "text/plain": [
       "<Figure size 432x288 with 1 Axes>"
      ]
     },
     "metadata": {
      "needs_background": "light"
     },
     "output_type": "display_data"
    }
   ],
   "source": [
    "new_stocks = np.array([[-35.03976321, 38.73053638, 17.98194704, 10.90072715], #TWTR \n",
    "                       [9.811733774,-0.653042047,-37.93613677,35.85701138,] #GIS \n",
    "                      ])\n",
    "\n",
    "new_stock_clusters = KMeans(n_clusters = 2, random_state = 5622, init = 'k-means++').fit_predict(new_stocks)\n",
    "new_stock_clusters\n",
    "\n",
    "plt.plot(new_stock_clusters)"
   ]
  },
  {
   "cell_type": "code",
   "execution_count": 38,
   "metadata": {
    "scrolled": true
   },
   "outputs": [
    {
     "name": "stdout",
     "output_type": "stream",
     "text": [
      "             2016       2017       2018       2019\n",
      "Ticker                                            \n",
      "BIIB    -7.723403  11.634803  -5.699776  -1.402182\n",
      "BK      15.742527  14.561804 -11.480892   9.127410\n",
      "BKNG    13.967165  17.000684  -0.885511  17.592734\n",
      "BMY    -14.492260   7.426163 -13.806398  24.481194\n",
      "BRK.B   21.052262  19.575006   2.962439  10.374302\n",
      "CL       0.438812  16.453035 -21.308727  17.055306\n",
      "CVS    -19.638442  -5.924348  -7.296104  15.922447\n",
      "CVX     31.233638  10.065586 -10.255811  14.213881\n",
      "DD      13.017055  26.548115 -23.761364 -14.011893\n",
      "DIS      0.669734   4.650359   3.544260  28.903243\n",
      "DUK     12.607133  12.182615   7.152575   9.791521\n",
      "F      -10.321740   7.970167 -43.390879  25.958912\n",
      "FDX     23.166253  30.168089 -42.577711  -4.895632\n",
      "GD      25.041846  18.110815 -24.004712  13.797942\n",
      "GILD   -32.288824   2.914470 -10.447067   7.585516\n",
      "GM       7.191513  21.329442 -16.318274  13.118919\n",
      "IBM     23.437932  -4.069511 -25.564100  21.168688\n",
      "JNJ     14.262039  21.853471  -5.267809  15.031507\n",
      "MDLZ     0.563690  -1.589867  -4.362037  33.949536\n",
      "MET     15.158888   8.360211 -17.156293  25.337895\n",
      "MMM     19.652635  29.939144 -18.511507  -4.385580\n",
      "MO      18.595620   9.025395 -31.666134   7.575701\n",
      "ORCL     6.659802  22.263821  -3.014556  17.683385\n",
      "OXY      9.502676   8.144716 -13.982458 -33.244436\n",
      "PEP      7.506985  16.397164  -4.932552  24.197262\n",
      "SPG     -5.656808   0.977321   2.521076  -6.980909\n",
      "UPS     20.470960   6.897041 -16.813474  21.701575\n",
      "VZ      18.812401   3.895387  10.666996  12.956664\n",
      "WBA     -1.017906 -11.105816  -3.718737 -11.644399\n",
      "WFC      4.533626  12.407895 -24.627405  19.425976\n",
      "XOM     18.133859  -3.881267 -16.361721   6.983260\n"
     ]
    }
   ],
   "source": [
    "cluster_0 = stock_returns.loc[stock_returns['clusters'] == 0, stock_returns.columns[:-1]]\n",
    "print(cluster_0)\n"
   ]
  },
  {
   "cell_type": "markdown",
   "metadata": {},
   "source": [
    "For the list of new stocks, I would expect the values to be grouped together based off very little data. Because there is not a lot of data, I would expected negative returns to be clustered together and vice versa for positive data."
   ]
  },
  {
   "cell_type": "markdown",
   "metadata": {},
   "source": [
    "<div class = \"panel panel-primary\">\n",
    "    <div class = \"panel-heading\"> \n",
    "    <span style=\"color:white\"><b>Extra Credit</b>\n",
    "    </div>\n",
    "    <div class = \"panel-body\"> \n",
    "    Repeat Tasks 3 - 5 under hierarchical clustering, also using 4 clusters. \n",
    "    <br><br>\n",
    "    Recall that we can build a hierarchical clustering model by calling <code>AgglomerativeClustering()</code> from the <code>sklearn.cluster</code> module, and using the <code>fit()</code> method. Additionally, set the following optional parameters for <code>AgglomerativeClustering()</code> to the values listed below:\n",
    "    <ul>\n",
    "        <li><code>affinity = 'euclidean'</code></li>\n",
    "        <li><code>linkage = 'ward'</code></li>. \n",
    "    </ul>\n",
    "    Compare and contrast the clusters created under the k-means clustering algorithm vs. the hierarchical clustering algorithm. Which algorithm do you feel clustered the <code>stock_returns</code> dataset better, and why?\n",
    "    <p style=\"text-align:right;\">[20pts]</p>\n",
    "    </div>\n",
    "</div>"
   ]
  },
  {
   "cell_type": "code",
   "execution_count": null,
   "metadata": {},
   "outputs": [],
   "source": []
  },
  {
   "cell_type": "code",
   "execution_count": null,
   "metadata": {},
   "outputs": [],
   "source": []
  },
  {
   "cell_type": "code",
   "execution_count": null,
   "metadata": {},
   "outputs": [],
   "source": []
  }
 ],
 "metadata": {
  "kernelspec": {
   "display_name": "Python 3",
   "language": "python",
   "name": "python3"
  },
  "language_info": {
   "codemirror_mode": {
    "name": "ipython",
    "version": 3
   },
   "file_extension": ".py",
   "mimetype": "text/x-python",
   "name": "python",
   "nbconvert_exporter": "python",
   "pygments_lexer": "ipython3",
   "version": "3.8.5"
  }
 },
 "nbformat": 4,
 "nbformat_minor": 2
}
